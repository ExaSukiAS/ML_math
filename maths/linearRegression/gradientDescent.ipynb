{
 "cells": [
  {
   "cell_type": "code",
   "execution_count": 133,
   "id": "0d56a2e8",
   "metadata": {},
   "outputs": [],
   "source": [
    "import numpy as np\n",
    "import pandas as pd\n",
    "from sklearn import linear_model\n",
    "from sklearn.model_selection import train_test_split\n",
    "import matplotlib.pyplot as plt\n",
    "import math\n",
    "%matplotlib inline"
   ]
  },
  {
   "cell_type": "markdown",
   "id": "d1ecf1ea",
   "metadata": {},
   "source": [
    "Hypothesis function: \n",
    "$$h_w(\\vec{x}) = \\vec{x} \\cdot \\vec{w} + b$$"
   ]
  },
  {
   "cell_type": "code",
   "execution_count": null,
   "id": "f4f81ac7",
   "metadata": {},
   "outputs": [],
   "source": [
    "# This function computes the hypothesis for linear regression\n",
    "def hypothesis(x, w, b):\n",
    "    h = np.dot(x, w) + b\n",
    "    return h"
   ]
  },
  {
   "cell_type": "markdown",
   "id": "8cc08bbe",
   "metadata": {},
   "source": [
    "Cost function:\n",
    "$$J(w, b) = \\frac{1}{2m} \\sum_{i=1}^{m} \\left( h_w(x^{(i)}) - y^{(i)} \\right)^2$$\n",
    "\n",
    "Here, \n",
    "\n",
    "$y^{(i)}$ is the $i$ th target derived from the training data.\n",
    "\n",
    "$x^{(i)}$ is the $i$ th feature derived from the training data.\n",
    "\n",
    "$m$ is the training dataset length."
   ]
  },
  {
   "cell_type": "code",
   "execution_count": null,
   "id": "2767b247",
   "metadata": {},
   "outputs": [],
   "source": [
    "# This function computes the cost for linear regression\n",
    "def cost_function(x, y, w, b):\n",
    "    m = len(y)\n",
    "    h = hypothesis(x, w, b)\n",
    "    return (1/(2*m)) * np.sum(np.square(h - y))"
   ]
  },
  {
   "cell_type": "markdown",
   "id": "2400747d",
   "metadata": {},
   "source": [
    "Gradient function:\n",
    "$$\n",
    "\\begin{aligned}\n",
    "\\frac{\\partial}{\\partial w_j}J(w, b) &= \\frac{1}{m} \\sum_{i=1}^{m} \\left( h_w(x^{(i)}) - y^{(i)} \\right) x_j^{(i)} \\\\\n",
    "\\frac{\\partial}{\\partial b}J(w, b) &= \\frac{1}{m} \\sum_{i=1}^{m} \\left( h_w(x^{(i)}) - y^{(i)} \\right)\n",
    "\\end{aligned}\n",
    "$$"
   ]
  },
  {
   "cell_type": "code",
   "execution_count": null,
   "id": "07dae196",
   "metadata": {},
   "outputs": [],
   "source": [
    "# This function computes the gradient for linear regression\n",
    "def gradient(x, y, w, b):\n",
    "    m = len(y)\n",
    "    h = hypothesis(x, w, b)\n",
    "    dw = (1/m) * np.dot(x.T, (h - y))\n",
    "    db = (1/m) * np.sum(h - y)\n",
    "    return dw, db"
   ]
  },
  {
   "cell_type": "markdown",
   "id": "b11117d3",
   "metadata": {},
   "source": [
    "Gradient Descent Update Rules:\n",
    "$$\n",
    "w_j := w_j - \\alpha \\frac{\\partial}{\\partial w_j} J(w, b)\n",
    "$$\n",
    "$$\n",
    "b := b - \\alpha \\frac{\\partial}{\\partial b} J(w, b)\n",
    "$$\n",
    "\n",
    "Where:\n",
    "- $w_j$ is the weight for the $j$ -th feature.\n",
    "- $b$ is the bias term.\n",
    "- $\\alpha$ is the learning rate.\n",
    "- $\\frac{\\partial}{\\partial w_j} J(w, b)$ is the gradient of the cost function with respect to $w_j$.\n",
    "- $\\frac{\\partial}{\\partial b} J(w, b)$ is the gradient of the cost function with respect to $b$."
   ]
  },
  {
   "cell_type": "code",
   "execution_count": null,
   "id": "7266a4c8",
   "metadata": {},
   "outputs": [],
   "source": [
    "# This function performs gradient descent for linear regression\n",
    "def gradient_descent(x, y, w, b, alpha, num_iterations):\n",
    "    m = len(y)\n",
    "    cost_history = []\n",
    "    \n",
    "    for i in range(num_iterations):\n",
    "        dw, db = gradient(x, y, w, b)\n",
    "        w -= alpha * dw\n",
    "        b -= alpha * db\n",
    "        cost = cost_function(x, y, w, b)\n",
    "        cost_history.append(cost)\n",
    "        \n",
    "    return w, b, cost_history"
   ]
  },
  {
   "cell_type": "code",
   "execution_count": null,
   "id": "d2346aa3",
   "metadata": {},
   "outputs": [],
   "source": [
    "# This function trains the linear regression model\n",
    "def train_linear_regression(x, y, alpha=0.01, num_iterations=1000):\n",
    "    m, n = x.shape #number of samples and features\n",
    "    w = np.zeros(n) #initialize weights to zeros\n",
    "    b = 0 #initialize bias to zero\n",
    "    w, b, cost_history = gradient_descent(x, y, w, b, alpha, num_iterations)\n",
    "    return w, b, cost_history"
   ]
  },
  {
   "cell_type": "code",
   "execution_count": 139,
   "id": "1ec07f80",
   "metadata": {},
   "outputs": [
    {
     "data": {
      "text/html": [
       "<div>\n",
       "<style scoped>\n",
       "    .dataframe tbody tr th:only-of-type {\n",
       "        vertical-align: middle;\n",
       "    }\n",
       "\n",
       "    .dataframe tbody tr th {\n",
       "        vertical-align: top;\n",
       "    }\n",
       "\n",
       "    .dataframe thead th {\n",
       "        text-align: right;\n",
       "    }\n",
       "</style>\n",
       "<table border=\"1\" class=\"dataframe\">\n",
       "  <thead>\n",
       "    <tr style=\"text-align: right;\">\n",
       "      <th></th>\n",
       "      <th>Square Footage(100 square foot)</th>\n",
       "      <th>Number of Bedrooms</th>\n",
       "      <th>Monthly Rent(hundred dollars)</th>\n",
       "    </tr>\n",
       "  </thead>\n",
       "  <tbody>\n",
       "    <tr>\n",
       "      <th>0</th>\n",
       "      <td>5.0</td>\n",
       "      <td>1</td>\n",
       "      <td>12.0</td>\n",
       "    </tr>\n",
       "    <tr>\n",
       "      <th>1</th>\n",
       "      <td>6.0</td>\n",
       "      <td>2</td>\n",
       "      <td>14.0</td>\n",
       "    </tr>\n",
       "    <tr>\n",
       "      <th>2</th>\n",
       "      <td>4.5</td>\n",
       "      <td>1</td>\n",
       "      <td>11.0</td>\n",
       "    </tr>\n",
       "    <tr>\n",
       "      <th>3</th>\n",
       "      <td>7.0</td>\n",
       "      <td>2</td>\n",
       "      <td>16.0</td>\n",
       "    </tr>\n",
       "    <tr>\n",
       "      <th>4</th>\n",
       "      <td>8.0</td>\n",
       "      <td>3</td>\n",
       "      <td>18.0</td>\n",
       "    </tr>\n",
       "  </tbody>\n",
       "</table>\n",
       "</div>"
      ],
      "text/plain": [
       "   Square Footage(100 square foot)  Number of Bedrooms  \\\n",
       "0                              5.0                   1   \n",
       "1                              6.0                   2   \n",
       "2                              4.5                   1   \n",
       "3                              7.0                   2   \n",
       "4                              8.0                   3   \n",
       "\n",
       "   Monthly Rent(hundred dollars)  \n",
       "0                           12.0  \n",
       "1                           14.0  \n",
       "2                           11.0  \n",
       "3                           16.0  \n",
       "4                           18.0  "
      ]
     },
     "execution_count": 139,
     "metadata": {},
     "output_type": "execute_result"
    }
   ],
   "source": [
    "# Load the dataset\n",
    "df = pd.read_csv('2featureData.csv')\n",
    "df.head()"
   ]
  },
  {
   "cell_type": "code",
   "execution_count": 140,
   "id": "f7644457",
   "metadata": {},
   "outputs": [],
   "source": [
    "#split the data into features and target\n",
    "features_all = np.array(df.iloc[:, :-1])  # All columns except the last one\n",
    "target_all = np.array(df.iloc[:, -1])     # Last column as target\n",
    "\n",
    "# Split the data into training and testing sets\n",
    "features, features_test, target, target_test = train_test_split(features_all, target_all, test_size=0.15)"
   ]
  },
  {
   "cell_type": "code",
   "execution_count": 141,
   "id": "a68d1f75",
   "metadata": {},
   "outputs": [
    {
     "data": {
      "image/png": "[encoded data removed]",
      "text/plain": [
       "<Figure size 640x480 with 2 Axes>"
      ]
     },
     "metadata": {},
     "output_type": "display_data"
    }
   ],
   "source": [
    "if features_all.shape[1] < 3:\n",
    "    # Assuming target_all contains 0s and 1s for classification\n",
    "    plt.scatter(features_all[:, 0], features_all[:, 1], c=target_all, cmap='coolwarm')\n",
    "    plt.xlabel(df.columns[0])\n",
    "    plt.ylabel(df.columns[1])\n",
    "    plt.colorbar()  # Show color scale"
   ]
  },
  {
   "cell_type": "code",
   "execution_count": 142,
   "id": "8ae57cef",
   "metadata": {},
   "outputs": [],
   "source": [
    "# Train the linear regression model\n",
    "alpha = 0.00007\n",
    "num_iterations = 100000\n",
    "w, b, cost_history = train_linear_regression(features, target, alpha, num_iterations)"
   ]
  },
  {
   "cell_type": "code",
   "execution_count": 143,
   "id": "51db4ba4",
   "metadata": {},
   "outputs": [
    {
     "data": {
      "text/plain": [
       "[<matplotlib.lines.Line2D at 0x21e382f1f40>]"
      ]
     },
     "execution_count": 143,
     "metadata": {},
     "output_type": "execute_result"
    },
    {
     "data": {
      "image/png": "[encoded data removed]",
      "text/plain": [
       "<Figure size 640x480 with 1 Axes>"
      ]
     },
     "metadata": {},
     "output_type": "display_data"
    }
   ],
   "source": [
    "# Plot the cost function over iterations\n",
    "plt.plot(range(num_iterations), cost_history)"
   ]
  },
  {
   "cell_type": "code",
   "execution_count": 144,
   "id": "e958ba54",
   "metadata": {},
   "outputs": [
    {
     "name": "stdout",
     "output_type": "stream",
     "text": [
      "Final cost: 0.40694158577751904 , Weights: [1.50677649 2.00266649] , Bias: 0.7535642858382506\n"
     ]
    }
   ],
   "source": [
    "print(\"Final cost:\", cost_history[-1], \", Weights:\", w, \", Bias:\", b) # Final cost, weights and bias"
   ]
  },
  {
   "cell_type": "code",
   "execution_count": 145,
   "id": "d29b141a",
   "metadata": {},
   "outputs": [],
   "source": [
    "def predict(x, w, b):\n",
    "    return hypothesis(x, w, b)"
   ]
  },
  {
   "cell_type": "code",
   "execution_count": 146,
   "id": "b0820ac0",
   "metadata": {},
   "outputs": [
    {
     "name": "stdout",
     "output_type": "stream",
     "text": [
      "Actual: 13.0,  Prediction: 13.799556179663204\n",
      "Actual: 24.0,  Prediction: 22.325218617863204\n",
      "Actual: 11.0,  Prediction: 9.536724960563205\n",
      "Actual: 22.0,  Prediction: 23.831995103071524\n",
      "Actual: 16.0,  Prediction: 17.566497392684003\n",
      "Actual: 15.0,  Prediction: 15.306332664871524\n",
      "Actual: 18.0,  Prediction: 18.815775641367367\n"
     ]
    }
   ],
   "source": [
    "# Make predictions on the test set\n",
    "predictions = predict(features_test, w, b)\n",
    "predictions, target_test\n",
    "for i in range(0, len(predictions)-1):\n",
    "    print(f\"Actual: {target_test[i]},  Prediction: {predictions[i]}\")"
   ]
  },
  {
   "cell_type": "code",
   "execution_count": 147,
   "id": "308bbe75",
   "metadata": {},
   "outputs": [
    {
     "data": {
      "text/plain": [
       "102.46183643033137"
      ]
     },
     "execution_count": 147,
     "metadata": {},
     "output_type": "execute_result"
    }
   ],
   "source": [
    "# Calculate accuracy\n",
    "accuracy = np.mean(predictions/target_test) * 100\n",
    "accuracy"
   ]
  }
 ],
 "metadata": {
  "kernelspec": {
   "display_name": "Python 3",
   "language": "python",
   "name": "python3"
  },
  "language_info": {
   "codemirror_mode": {
    "name": "ipython",
    "version": 3
   },
   "file_extension": ".py",
   "mimetype": "text/x-python",
   "name": "python",
   "nbconvert_exporter": "python",
   "pygments_lexer": "ipython3",
   "version": "3.9.12"
  }
 },
 "nbformat": 4,
 "nbformat_minor": 5
}
